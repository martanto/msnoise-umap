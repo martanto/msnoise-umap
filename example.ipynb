{
 "cells": [
  {
   "cell_type": "code",
   "id": "initial_id",
   "metadata": {
    "collapsed": true,
    "ExecuteTime": {
     "end_time": "2024-06-03T10:15:23.069487Z",
     "start_time": "2024-06-03T10:15:19.595271Z"
    }
   },
   "source": [
    "import numpy as np\n",
    "import matplotlib.pyplot as plt\n",
    "import os\n",
    "from sklearn.cluster import DBSCAN\n",
    "from umap import UMAP\n",
    "from sklearn.cluster import AgglomerativeClustering\n",
    "from obspy import read, Stream\n",
    "from typing import Any, Tuple"
   ],
   "outputs": [],
   "execution_count": 1
  },
  {
   "metadata": {},
   "cell_type": "code",
   "outputs": [],
   "execution_count": null,
   "source": [
    "def save_ccfs(msnoise_dir: str, dates: np.ndarray[Any, np.dtype], filter_ref: int, \n",
    "              mov_stack: int, stations: list[str], component: str = 'ZZ',\n",
    "              filter_ccfs: bool = False, freq_min: float = 0.1, freq_max: float = 0.8) -> Tuple[np.ndarray, list[str]]:\n",
    "    \n",
    "    stack_stream = Stream()\n",
    "    dates_available: list[str] = []\n",
    "    \n",
    "    missing: int = 0\n",
    "    \n",
    "    for i, day in enumerate(dates):\n",
    "        stack_mseed = os.path.join(msnoise_dir, 'STACKS','{:02d}'.format(filter_ref),\n",
    "                                   '{:03d}_DAYS'.format(mov_stack), component, \n",
    "                                   f'{stations[0]}_{stations[1]}', '{}.MSEED'.format(day))\n",
    "        \n",
    "        if os.path.isfile(stack_mseed):\n",
    "            stack_stream += read(stack_mseed)\n",
    "            dates_available.append(day)\n",
    "        else:\n",
    "            missing += 1\n",
    "        \n",
    "    print(f'Missing {missing} file(s)')\n",
    "\n",
    "    if filter_ccfs is True:\n",
    "        stack_stream.filter('bandpass',freqmin=freq_min, freqmax=freq_max, zerophase=True)\n",
    "    \n",
    "    ccfs: np.ndarray = np.array(stack_stream) \n",
    "    return ccfs, dates_available"
   ],
   "id": "7d9dd9819615803b"
  },
  {
   "metadata": {
    "ExecuteTime": {
     "end_time": "2024-06-03T10:15:23.074390Z",
     "start_time": "2024-06-03T10:15:23.069487Z"
    }
   },
   "cell_type": "code",
   "source": [
    "def read_ccfs(ccfs_dir: str, filename: str) -> np.ndarray:\n",
    "    ccf_file: str = \"{}_ccfs.npy\".format(filename)\n",
    "    ccf_filepath = os.path.join(ccfs_dir, ccf_file)\n",
    "    data: np.ndarray = np.load(ccf_filepath)\n",
    "    data: np.ndarray = data/np.max(np.abs(data))\n",
    "    return data"
   ],
   "id": "f41c773070e6e2d9",
   "outputs": [],
   "execution_count": 2
  },
  {
   "metadata": {
    "ExecuteTime": {
     "end_time": "2024-06-03T10:15:23.083153Z",
     "start_time": "2024-06-03T10:15:23.074390Z"
    }
   },
   "cell_type": "code",
   "source": [
    "def plot_original(original_dir: str, filename: str, data: np.ndarray, cmap: str = \"RdBu_r\") -> None:\n",
    "    figure_name: str = os.path.join(original_dir, \"original_{}\".format(filename))\n",
    "    fig, ax = plt.subplots()\n",
    "    img = ax.pcolorfast(data, vmin=-0.1, vmax=0.1, cmap=cmap)\n",
    "    ax.set_title(filename)\n",
    "    plt.colorbar(img, extend=\"both\")\n",
    "    fig.savefig(figure_name, bbox_inches='tight')\n",
    "    plt.close()"
   ],
   "id": "ab90644a7607ef58",
   "outputs": [],
   "execution_count": 3
  },
  {
   "metadata": {
    "ExecuteTime": {
     "end_time": "2024-06-03T10:15:23.089548Z",
     "start_time": "2024-06-03T10:15:23.083153Z"
    }
   },
   "cell_type": "code",
   "source": [
    "def plot_umap(umap_dir: str, filename: str, embedding: np.ndarray, labels: np.ndarray) -> None:\n",
    "    figure_name = os.path.join(umap_dir, \"umap_{}\".format(filename))\n",
    "    fig, ax = plt.subplots()\n",
    "    for label in np.unique(labels):\n",
    "        mask = labels == label\n",
    "        ax.scatter(embedding[mask, 0], embedding[mask, 1], s=12, label=f\"{label}\")\n",
    "    ax.legend(ncol=2, loc=\"upper left\", bbox_to_anchor=(1, 1))\n",
    "    ax.set_aspect(\"equal\")\n",
    "    ax.set_xlabel(\"UMAP 1\")\n",
    "    ax.set_ylabel(\"UMAP 2\")\n",
    "    ax.set_title(filename)\n",
    "    fig.savefig(figure_name, bbox_inches='tight')\n",
    "    plt.close()"
   ],
   "id": "1e5303080f28c6a9",
   "outputs": [],
   "execution_count": 4
  },
  {
   "metadata": {
    "ExecuteTime": {
     "end_time": "2024-06-03T10:15:23.096079Z",
     "start_time": "2024-06-03T10:15:23.089548Z"
    }
   },
   "cell_type": "code",
   "source": [
    "def plot_cluster(cluster_dir: str, filename: str, data: np.ndarray, labels: np.ndarray) -> None:\n",
    "    # Explore Clusters\n",
    "    # Sort the ccf matrix by cluster\n",
    "    order = np.argsort(labels)\n",
    "    data_sorted_by_cluster = data[order]\n",
    "    \n",
    "    # Also cluster within the original space\n",
    "    model = AgglomerativeClustering(n_clusters=len(np.unique(labels)))\n",
    "    cluster_kmeans = model.fit_predict(data)\n",
    "    order_kmeans = np.argsort(cluster_kmeans)\n",
    "    \n",
    "    figure_name = os.path.join(cluster_dir, \"cluster_{}\".format(filename))\n",
    "    fig, ax = plt.subplots(1, 3, figsize=(10, 4))\n",
    "    ax[0].pcolorfast(data, vmin=-0.1, vmax=0.1, cmap=\"RdBu_r\")\n",
    "    ax[0].set_title(\"Original\")\n",
    "    \n",
    "    # DBSCAN\n",
    "    ax[1].pcolorfast(data_sorted_by_cluster, vmin=-0.1, vmax=0.1, cmap=\"RdBu_r\")\n",
    "    ax[1].set_title(\"Clustered in embedding space\")\n",
    "    for label in np.unique(labels):\n",
    "        mask = labels[order] == label\n",
    "        ax[1].axhline(np.where(mask)[0][0], color=\"black\")\n",
    "    \n",
    "    # Kmeans\n",
    "    ax[2].pcolorfast(data[order_kmeans], vmin=-0.1, vmax=0.1, cmap=\"RdBu_r\")\n",
    "    ax[2].set_title(\"Clustered in time domain\")\n",
    "    for label in np.unique(cluster_kmeans):\n",
    "        mask = cluster_kmeans[order_kmeans] == label\n",
    "        ax[2].axhline(np.where(mask)[0][0], color=\"black\")\n",
    "    \n",
    "    fig.suptitle(\"{}\".format(filename))\n",
    "    fig.savefig(figure_name, bbox_inches='tight')\n",
    "    plt.close()"
   ],
   "id": "98e5ff5c46a546ee",
   "outputs": [],
   "execution_count": 5
  },
  {
   "metadata": {
    "ExecuteTime": {
     "end_time": "2024-06-03T10:15:23.102057Z",
     "start_time": "2024-06-03T10:15:23.096079Z"
    }
   },
   "cell_type": "code",
   "source": [
    "def main():\n",
    "    ccfs_dir: str = os.path.join(os.getcwd(), 'output', 'ccfs')\n",
    "    filter_refs: list[int] = [1,2,3,4]\n",
    "    mov_stacks: list[int] = [1,2,5,10]\n",
    "    stations: list[str] = ['VG_BANG', 'VG_LEKR']\n",
    "    \n",
    "    figures_dir: str = os.path.join(os.getcwd(), 'figures')\n",
    "    os.makedirs(figures_dir, exist_ok=True)\n",
    "    \n",
    "    original_dir: str = os.path.join(figures_dir, 'original')\n",
    "    os.makedirs(original_dir, exist_ok=True)\n",
    "    \n",
    "    umap_dir: str = os.path.join(figures_dir, 'umap')\n",
    "    os.makedirs(umap_dir, exist_ok=True)\n",
    "    \n",
    "    cluster_dir: str = os.path.join(figures_dir, 'cluster')\n",
    "    os.makedirs(cluster_dir, exist_ok=True)\n",
    "    \n",
    "    for filter_ref in filter_refs:\n",
    "        for mov_stack in mov_stacks:\n",
    "            filename: str = \"{}_{}_{:02d}_{:03d}_DAYS\".format(stations[0], stations[1], filter_ref, mov_stack)\n",
    "            data: np.ndarray = read_ccfs(ccfs_dir=ccfs_dir, filename=filename)\n",
    "            \n",
    "            # Plotting original\n",
    "            plot_original(original_dir, filename, data)\n",
    "            \n",
    "            # Compress with UMAP and get embedding data\n",
    "            model_umap = UMAP(n_components=2, metric=\"correlation\", n_neighbors=20, min_dist=1)\n",
    "            embedding_data = model_umap.fit_transform(data)\n",
    "            \n",
    "            # Clustering DBSCAN (Density-Based Spatial Clustering of Applications with Noise)\n",
    "            # Cluster labels. Noisy samples are given the label -1\n",
    "            model = DBSCAN(eps=1)\n",
    "            labels: np.ndarray = model.fit_predict(embedding_data)\n",
    "            \n",
    "            # Plotting UMAP clustering\n",
    "            plot_umap(umap_dir, filename, embedding_data, labels)\n",
    "            \n",
    "            # Plotting\n",
    "            plot_cluster(cluster_dir, filename, data, labels)"
   ],
   "id": "585652764f84b2e8",
   "outputs": [],
   "execution_count": 6
  },
  {
   "metadata": {
    "ExecuteTime": {
     "end_time": "2024-06-03T10:16:34.810333Z",
     "start_time": "2024-06-03T10:15:23.102057Z"
    }
   },
   "cell_type": "code",
   "source": "main()",
   "id": "3a9147994bf6161a",
   "outputs": [],
   "execution_count": 7
  }
 ],
 "metadata": {
  "kernelspec": {
   "display_name": "Python 3",
   "language": "python",
   "name": "python3"
  },
  "language_info": {
   "codemirror_mode": {
    "name": "ipython",
    "version": 2
   },
   "file_extension": ".py",
   "mimetype": "text/x-python",
   "name": "python",
   "nbconvert_exporter": "python",
   "pygments_lexer": "ipython2",
   "version": "2.7.6"
  }
 },
 "nbformat": 4,
 "nbformat_minor": 5
}
