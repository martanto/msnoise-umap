{
 "cells": [
  {
   "cell_type": "code",
   "id": "initial_id",
   "metadata": {
    "collapsed": true,
    "ExecuteTime": {
     "end_time": "2024-06-03T04:55:02.482898Z",
     "start_time": "2024-06-03T04:55:02.287318Z"
    }
   },
   "source": [
    "import numpy as np\n",
    "from numpy import dtype\n",
    "import os\n",
    "from obspy import read, Stream\n",
    "from typing import Any, Tuple"
   ],
   "outputs": [],
   "execution_count": 1
  },
  {
   "metadata": {
    "ExecuteTime": {
     "end_time": "2024-06-03T04:55:02.487077Z",
     "start_time": "2024-06-03T04:55:02.482898Z"
    }
   },
   "cell_type": "code",
   "source": [
    "output_dir: str = os.path.join(os.getcwd(), 'output', 'ccfs')\n",
    "os.makedirs(output_dir, exist_ok=True)"
   ],
   "id": "bd172db87dc83c9f",
   "outputs": [],
   "execution_count": 2
  },
  {
   "metadata": {
    "ExecuteTime": {
     "end_time": "2024-06-03T04:55:02.494752Z",
     "start_time": "2024-06-03T04:55:02.487077Z"
    }
   },
   "cell_type": "code",
   "source": [
    "msnoise_dir: str = 'D:\\\\Projects\\\\msnoise' #set msnoise directory\n",
    "filter_refs: list[int] = [1,2,3,4] #set filter id\n",
    "mov_stacks: list[int] = [1,2,5,10] #set stack size\n",
    "stations: list[str] = ['VG_BANG', 'VG_LEKR'] #define station pair\n",
    "startdate: str = '2020-09-01'\n",
    "enddate: str = '2022-12-12'\n",
    "component = 'ZZ' #component to cluster\n",
    "step = 1 #gap in days between CCFs to cluster"
   ],
   "id": "f840fb88b81f73ce",
   "outputs": [],
   "execution_count": 3
  },
  {
   "metadata": {
    "ExecuteTime": {
     "end_time": "2024-06-03T04:55:02.499154Z",
     "start_time": "2024-06-03T04:55:02.494752Z"
    }
   },
   "cell_type": "code",
   "source": [
    "start_date = np.datetime64(startdate)\n",
    "end_date = np.datetime64(enddate)\n",
    "dates: np.ndarray[Any, dtype] = np.arange(start_date, end_date, np.timedelta64(step, 'D'))"
   ],
   "id": "45638fbf1d4b6128",
   "outputs": [],
   "execution_count": 4
  },
  {
   "metadata": {
    "ExecuteTime": {
     "end_time": "2024-06-03T04:55:02.505139Z",
     "start_time": "2024-06-03T04:55:02.499154Z"
    }
   },
   "cell_type": "code",
   "source": [
    "def save_ccfs(msnoise_dir: str, dates: np.ndarray[Any, dtype], filter_ref: int, \n",
    "              mov_stack: int, stations: list[str], component: str = 'ZZ',\n",
    "              filter_ccfs: bool = False, freqmin: float = 0.1, freqmax: float = 0.8) -> Tuple[np.ndarray, list[str]]:\n",
    "    \n",
    "    stack_stream = Stream()\n",
    "    dates_available: list[str] = []\n",
    "    \n",
    "    missing: int = 0\n",
    "    \n",
    "    for i, day in enumerate(dates):\n",
    "        stack_mseed = os.path.join(msnoise_dir, 'STACKS','{:02d}'.format(filter_ref),\n",
    "                                   '{:03d}_DAYS'.format(mov_stack), component, \n",
    "                                   f'{stations[0]}_{stations[1]}', '{}.MSEED'.format(day))\n",
    "        \n",
    "        if os.path.isfile(stack_mseed):\n",
    "            stack_stream += read(stack_mseed)\n",
    "            dates_available.append(day)\n",
    "        else:\n",
    "            missing += 1\n",
    "        \n",
    "    print(f'Missing {missing} file(s)')\n",
    "            \n",
    "    stack_stream_filtered = stack_stream.copy()\n",
    "    if filter_ccfs is True:\n",
    "        stack_stream_filtered.filter('bandpass',freqmin=freqmin, freqmax=freqmax, zerophase=True)\n",
    "    \n",
    "    ccfs: np.ndarray = np.array(stack_stream_filtered) \n",
    "    return ccfs, dates_available"
   ],
   "id": "9f9e90c483f3185c",
   "outputs": [],
   "execution_count": 5
  },
  {
   "metadata": {
    "ExecuteTime": {
     "end_time": "2024-06-03T04:55:19.220311Z",
     "start_time": "2024-06-03T04:55:02.505139Z"
    }
   },
   "cell_type": "code",
   "source": [
    "for filter_ref in filter_refs:\n",
    "    for mov_stack in mov_stacks:\n",
    "        ccfs, _ = save_ccfs(msnoise_dir, dates=dates, filter_ref=filter_ref, mov_stack=mov_stack, stations=stations)\n",
    "        filename = \"{}_{}_{:02d}_{:03d}_DAYS_ccfs\".format(stations[0], stations[1], filter_ref, mov_stack)\n",
    "        save_path = os.path.join(output_dir, filename)\n",
    "        print(save_path)\n",
    "        np.save(save_path, ccfs)"
   ],
   "id": "2c9928e3cf95aa62",
   "outputs": [
    {
     "name": "stdout",
     "output_type": "stream",
     "text": [
      "Missing 260 file(s)\n",
      "D:\\Projects\\umap\\output\\ccfs\\VG_BANG_VG_LEKR_01_001_DAYS_ccfs\n",
      "Missing 211 file(s)\n",
      "D:\\Projects\\umap\\output\\ccfs\\VG_BANG_VG_LEKR_01_002_DAYS_ccfs\n",
      "Missing 152 file(s)\n",
      "D:\\Projects\\umap\\output\\ccfs\\VG_BANG_VG_LEKR_01_005_DAYS_ccfs\n",
      "Missing 119 file(s)\n",
      "D:\\Projects\\umap\\output\\ccfs\\VG_BANG_VG_LEKR_01_010_DAYS_ccfs\n",
      "Missing 260 file(s)\n",
      "D:\\Projects\\umap\\output\\ccfs\\VG_BANG_VG_LEKR_02_001_DAYS_ccfs\n",
      "Missing 211 file(s)\n",
      "D:\\Projects\\umap\\output\\ccfs\\VG_BANG_VG_LEKR_02_002_DAYS_ccfs\n",
      "Missing 152 file(s)\n",
      "D:\\Projects\\umap\\output\\ccfs\\VG_BANG_VG_LEKR_02_005_DAYS_ccfs\n",
      "Missing 119 file(s)\n",
      "D:\\Projects\\umap\\output\\ccfs\\VG_BANG_VG_LEKR_02_010_DAYS_ccfs\n",
      "Missing 260 file(s)\n",
      "D:\\Projects\\umap\\output\\ccfs\\VG_BANG_VG_LEKR_03_001_DAYS_ccfs\n",
      "Missing 211 file(s)\n",
      "D:\\Projects\\umap\\output\\ccfs\\VG_BANG_VG_LEKR_03_002_DAYS_ccfs\n",
      "Missing 152 file(s)\n",
      "D:\\Projects\\umap\\output\\ccfs\\VG_BANG_VG_LEKR_03_005_DAYS_ccfs\n",
      "Missing 119 file(s)\n",
      "D:\\Projects\\umap\\output\\ccfs\\VG_BANG_VG_LEKR_03_010_DAYS_ccfs\n",
      "Missing 260 file(s)\n",
      "D:\\Projects\\umap\\output\\ccfs\\VG_BANG_VG_LEKR_04_001_DAYS_ccfs\n",
      "Missing 211 file(s)\n",
      "D:\\Projects\\umap\\output\\ccfs\\VG_BANG_VG_LEKR_04_002_DAYS_ccfs\n",
      "Missing 152 file(s)\n",
      "D:\\Projects\\umap\\output\\ccfs\\VG_BANG_VG_LEKR_04_005_DAYS_ccfs\n",
      "Missing 119 file(s)\n",
      "D:\\Projects\\umap\\output\\ccfs\\VG_BANG_VG_LEKR_04_010_DAYS_ccfs\n"
     ]
    }
   ],
   "execution_count": 6
  }
 ],
 "metadata": {
  "kernelspec": {
   "display_name": "Python 3",
   "language": "python",
   "name": "python3"
  },
  "language_info": {
   "codemirror_mode": {
    "name": "ipython",
    "version": 2
   },
   "file_extension": ".py",
   "mimetype": "text/x-python",
   "name": "python",
   "nbconvert_exporter": "python",
   "pygments_lexer": "ipython2",
   "version": "2.7.6"
  }
 },
 "nbformat": 4,
 "nbformat_minor": 5
}
